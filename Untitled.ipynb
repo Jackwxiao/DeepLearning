{
 "cells": [
  {
   "cell_type": "code",
   "execution_count": 3,
   "id": "722cbef5",
   "metadata": {},
   "outputs": [
    {
     "name": "stdout",
     "output_type": "stream",
     "text": [
      "Looking in indexes: https://pypi.tuna.tsinghua.edu.cn/simple\n",
      "Requirement already satisfied: seaborn in d:\\learning\\anaconda\\envs\\d2l\\lib\\site-packages (0.11.2)\n",
      "Requirement already satisfied: pandas>=0.23 in d:\\learning\\anaconda\\envs\\d2l\\lib\\site-packages (from seaborn) (1.2.4)\n",
      "Requirement already satisfied: scipy>=1.0 in d:\\learning\\anaconda\\envs\\d2l\\lib\\site-packages (from seaborn) (1.8.0)\n",
      "Requirement already satisfied: numpy>=1.15 in d:\\learning\\anaconda\\envs\\d2l\\lib\\site-packages (from seaborn) (1.22.2)\n",
      "Requirement already satisfied: matplotlib>=2.2 in d:\\learning\\anaconda\\envs\\d2l\\lib\\site-packages (from seaborn) (3.4.0)\n",
      "Requirement already satisfied: pyparsing>=2.2.1 in d:\\learning\\anaconda\\envs\\d2l\\lib\\site-packages (from matplotlib>=2.2->seaborn) (3.0.7)\n",
      "Requirement already satisfied: kiwisolver>=1.0.1 in d:\\learning\\anaconda\\envs\\d2l\\lib\\site-packages (from matplotlib>=2.2->seaborn) (1.4.2)\n",
      "Requirement already satisfied: python-dateutil>=2.7 in d:\\learning\\anaconda\\envs\\d2l\\lib\\site-packages (from matplotlib>=2.2->seaborn) (2.8.2)\n",
      "Requirement already satisfied: cycler>=0.10 in d:\\learning\\anaconda\\envs\\d2l\\lib\\site-packages (from matplotlib>=2.2->seaborn) (0.11.0)\n",
      "Requirement already satisfied: pillow>=6.2.0 in d:\\learning\\anaconda\\envs\\d2l\\lib\\site-packages (from matplotlib>=2.2->seaborn) (9.0.1)\n",
      "Requirement already satisfied: pytz>=2017.3 in d:\\learning\\anaconda\\envs\\d2l\\lib\\site-packages (from pandas>=0.23->seaborn) (2022.1)\n",
      "Requirement already satisfied: six>=1.5 in d:\\learning\\anaconda\\envs\\d2l\\lib\\site-packages (from python-dateutil>=2.7->matplotlib>=2.2->seaborn) (1.16.0)\n"
     ]
    },
    {
     "name": "stderr",
     "output_type": "stream",
     "text": [
      "C:\\Users\\carpexw\\AppData\\Local\\Temp\\ipykernel_1588\\264357947.py:7: DeprecationWarning: `set_matplotlib_formats` is deprecated since IPython 7.23, directly use `matplotlib_inline.backend_inline.set_matplotlib_formats()`\n",
      "  display.set_matplotlib_formats('svg')\n"
     ]
    }
   ],
   "source": [
    "\n",
    "import numpy as np\n",
    "import pandas as pd\n",
    "import matplotlib.pyplot as plt\n",
    "import seaborn as sns\n",
    "from IPython import display\n",
    "display.set_matplotlib_formats('svg')"
   ]
  },
  {
   "cell_type": "code",
   "execution_count": 5,
   "id": "11cd0840",
   "metadata": {},
   "outputs": [],
   "source": [
    "data = pd.read_csv('qunar_freetrip.csv')"
   ]
  },
  {
   "cell_type": "code",
   "execution_count": 6,
   "id": "f53ff217",
   "metadata": {},
   "outputs": [
    {
     "data": {
      "text/plain": [
       "(5100, 14)"
      ]
     },
     "execution_count": 6,
     "metadata": {},
     "output_type": "execute_result"
    }
   ],
   "source": [
    "data.shape"
   ]
  },
  {
   "cell_type": "code",
   "execution_count": 7,
   "id": "a5377dc4",
   "metadata": {},
   "outputs": [
    {
     "data": {
      "text/html": [
       "<div>\n",
       "<style scoped>\n",
       "    .dataframe tbody tr th:only-of-type {\n",
       "        vertical-align: middle;\n",
       "    }\n",
       "\n",
       "    .dataframe tbody tr th {\n",
       "        vertical-align: top;\n",
       "    }\n",
       "\n",
       "    .dataframe thead th {\n",
       "        text-align: right;\n",
       "    }\n",
       "</style>\n",
       "<table border=\"1\" class=\"dataframe\">\n",
       "  <thead>\n",
       "    <tr style=\"text-align: right;\">\n",
       "      <th></th>\n",
       "      <th>Unnamed: 0</th>\n",
       "      <th>出发地</th>\n",
       "      <th>目的地</th>\n",
       "      <th>价格</th>\n",
       "      <th>节省</th>\n",
       "      <th>路线名</th>\n",
       "      <th>酒店</th>\n",
       "      <th>房间</th>\n",
       "      <th>去程航司</th>\n",
       "      <th>去程方式</th>\n",
       "      <th>去程时间</th>\n",
       "      <th>回程航司</th>\n",
       "      <th>回程方式</th>\n",
       "      <th>回程时间</th>\n",
       "    </tr>\n",
       "  </thead>\n",
       "  <tbody>\n",
       "    <tr>\n",
       "      <th>0</th>\n",
       "      <td>0</td>\n",
       "      <td>哈尔滨</td>\n",
       "      <td>北海</td>\n",
       "      <td>2208.0</td>\n",
       "      <td>650.0</td>\n",
       "      <td>哈尔滨-北海3天2晚 | 入住北海祥丰嘉年华大酒店 + 春秋航空往返机票</td>\n",
       "      <td>北海祥丰嘉年华大酒店 舒适型 4.7分/5分</td>\n",
       "      <td>标准双人间(双床) 双床 不含早 1间2晚</td>\n",
       "      <td>春秋航空 9C8741</td>\n",
       "      <td>直飞</td>\n",
       "      <td>17:10-21:50</td>\n",
       "      <td>春秋航空 9C8742</td>\n",
       "      <td>直飞</td>\n",
       "      <td>10:20-15:05</td>\n",
       "    </tr>\n",
       "    <tr>\n",
       "      <th>1</th>\n",
       "      <td>1</td>\n",
       "      <td>成都</td>\n",
       "      <td>泸沽湖</td>\n",
       "      <td>1145.0</td>\n",
       "      <td>376.0</td>\n",
       "      <td>成都-泸沽湖3天2晚 | 入住7天酒店丽江古城中心店 + 成都航空往返机票</td>\n",
       "      <td>7天酒店丽江古城中心店 经济型 4.0分/5分</td>\n",
       "      <td>经济房-不含早-限时特... 其他 不含早 1间2晚</td>\n",
       "      <td>成都航空 EU2237</td>\n",
       "      <td>直飞</td>\n",
       "      <td>19:45-21:20</td>\n",
       "      <td>成都航空 EU2738</td>\n",
       "      <td>直飞</td>\n",
       "      <td>23:30-01:05</td>\n",
       "    </tr>\n",
       "    <tr>\n",
       "      <th>2</th>\n",
       "      <td>2</td>\n",
       "      <td>广州</td>\n",
       "      <td>沈阳</td>\n",
       "      <td>2702.0</td>\n",
       "      <td>618.0</td>\n",
       "      <td>广州-沈阳3天2晚 | 入住沈阳中煤宾馆 + 南方航空/深圳航空往返机票</td>\n",
       "      <td>沈阳中煤宾馆 舒适型 4.5分/5分</td>\n",
       "      <td>大床间(内宾) 大床 双早 1间2晚</td>\n",
       "      <td>南方航空 CZ6384</td>\n",
       "      <td>直飞</td>\n",
       "      <td>08:05-11:45</td>\n",
       "      <td>深圳航空 ZH9652</td>\n",
       "      <td>经停</td>\n",
       "      <td>08:20-13:05</td>\n",
       "    </tr>\n",
       "    <tr>\n",
       "      <th>3</th>\n",
       "      <td>3</td>\n",
       "      <td>上海</td>\n",
       "      <td>九寨沟</td>\n",
       "      <td>1954.0</td>\n",
       "      <td>484.0</td>\n",
       "      <td>上海-九寨沟3天2晚 | 入住红原芸谊大酒店 + 成都航空往返机票</td>\n",
       "      <td>红原芸谊大酒店 舒适型 4.6分/5分</td>\n",
       "      <td>豪华双床房[双早] 双床 双早 1间2晚</td>\n",
       "      <td>成都航空 EU6678</td>\n",
       "      <td>直飞</td>\n",
       "      <td>21:55-01:15</td>\n",
       "      <td>成都航空 EU6677</td>\n",
       "      <td>直飞</td>\n",
       "      <td>17:45-20:35</td>\n",
       "    </tr>\n",
       "    <tr>\n",
       "      <th>4</th>\n",
       "      <td>4</td>\n",
       "      <td>广州</td>\n",
       "      <td>天津</td>\n",
       "      <td>1608.0</td>\n",
       "      <td>422.0</td>\n",
       "      <td>广州-天津3天2晚 | 入住天津逸海明珠大酒店 + 奥凯航空/海南航空往返机票</td>\n",
       "      <td>天津逸海明珠大酒店 高档型 4.1分/5分</td>\n",
       "      <td>豪华双床房(预付) 双床 不含早 1间2晚</td>\n",
       "      <td>奥凯航空 BK2787</td>\n",
       "      <td>直飞</td>\n",
       "      <td>06:55-10:00</td>\n",
       "      <td>海南航空 HU7201</td>\n",
       "      <td>直飞</td>\n",
       "      <td>20:15-23:25</td>\n",
       "    </tr>\n",
       "  </tbody>\n",
       "</table>\n",
       "</div>"
      ],
      "text/plain": [
       "   Unnamed: 0 出发地   目的地     价格      节省  \\\n",
       "0           0  哈尔滨   北海  2208.0  650.0   \n",
       "1           1   成都  泸沽湖  1145.0  376.0   \n",
       "2           2   广州   沈阳  2702.0  618.0   \n",
       "3           3   上海  九寨沟  1954.0  484.0   \n",
       "4           4   广州   天津  1608.0  422.0   \n",
       "\n",
       "                                       路线名                       酒店  \\\n",
       "0     哈尔滨-北海3天2晚 | 入住北海祥丰嘉年华大酒店 + 春秋航空往返机票   北海祥丰嘉年华大酒店 舒适型 4.7分/5分   \n",
       "1    成都-泸沽湖3天2晚 | 入住7天酒店丽江古城中心店 + 成都航空往返机票  7天酒店丽江古城中心店 经济型 4.0分/5分   \n",
       "2     广州-沈阳3天2晚 | 入住沈阳中煤宾馆 + 南方航空/深圳航空往返机票       沈阳中煤宾馆 舒适型 4.5分/5分   \n",
       "3        上海-九寨沟3天2晚 | 入住红原芸谊大酒店 + 成都航空往返机票      红原芸谊大酒店 舒适型 4.6分/5分   \n",
       "4  广州-天津3天2晚 | 入住天津逸海明珠大酒店 + 奥凯航空/海南航空往返机票    天津逸海明珠大酒店 高档型 4.1分/5分   \n",
       "\n",
       "                           房间         去程航司 去程方式         去程时间         回程航司  \\\n",
       "0       标准双人间(双床) 双床 不含早 1间2晚  春秋航空 9C8741   直飞  17:10-21:50  春秋航空 9C8742   \n",
       "1  经济房-不含早-限时特... 其他 不含早 1间2晚  成都航空 EU2237   直飞  19:45-21:20  成都航空 EU2738   \n",
       "2          大床间(内宾) 大床 双早 1间2晚  南方航空 CZ6384   直飞  08:05-11:45  深圳航空 ZH9652   \n",
       "3        豪华双床房[双早] 双床 双早 1间2晚  成都航空 EU6678   直飞  21:55-01:15  成都航空 EU6677   \n",
       "4       豪华双床房(预付) 双床 不含早 1间2晚  奥凯航空 BK2787   直飞  06:55-10:00  海南航空 HU7201   \n",
       "\n",
       "  回程方式          回程时间  \n",
       "0    直飞  10:20-15:05  \n",
       "1    直飞  23:30-01:05  \n",
       "2    经停  08:20-13:05  \n",
       "3    直飞  17:45-20:35  \n",
       "4    直飞  20:15-23:25  "
      ]
     },
     "execution_count": 7,
     "metadata": {},
     "output_type": "execute_result"
    }
   ],
   "source": [
    "data.head()"
   ]
  },
  {
   "cell_type": "code",
   "execution_count": null,
   "id": "4d87c30d",
   "metadata": {},
   "outputs": [],
   "source": []
  }
 ],
 "metadata": {
  "kernelspec": {
   "display_name": "Python 3 (ipykernel)",
   "language": "python",
   "name": "python3"
  },
  "language_info": {
   "codemirror_mode": {
    "name": "ipython",
    "version": 3
   },
   "file_extension": ".py",
   "mimetype": "text/x-python",
   "name": "python",
   "nbconvert_exporter": "python",
   "pygments_lexer": "ipython3",
   "version": "3.8.13"
  }
 },
 "nbformat": 4,
 "nbformat_minor": 5
}
